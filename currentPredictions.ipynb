{
 "cells": [
  {
   "cell_type": "code",
   "execution_count": 1,
   "metadata": {},
   "outputs": [],
   "source": [
    "%load_ext autoreload\n",
    "%autoreload 2"
   ]
  },
  {
   "cell_type": "code",
   "execution_count": 2,
   "metadata": {},
   "outputs": [
    {
     "name": "stderr",
     "output_type": "stream",
     "text": [
      "Using TensorFlow backend.\n",
      "/home/jash/.local/lib/python3.6/site-packages/tensorflow/python/framework/dtypes.py:516: FutureWarning: Passing (type, 1) or '1type' as a synonym of type is deprecated; in a future version of numpy, it will be understood as (type, (1,)) / '(1,)type'.\n",
      "  _np_qint8 = np.dtype([(\"qint8\", np.int8, 1)])\n",
      "/home/jash/.local/lib/python3.6/site-packages/tensorflow/python/framework/dtypes.py:517: FutureWarning: Passing (type, 1) or '1type' as a synonym of type is deprecated; in a future version of numpy, it will be understood as (type, (1,)) / '(1,)type'.\n",
      "  _np_quint8 = np.dtype([(\"quint8\", np.uint8, 1)])\n",
      "/home/jash/.local/lib/python3.6/site-packages/tensorflow/python/framework/dtypes.py:518: FutureWarning: Passing (type, 1) or '1type' as a synonym of type is deprecated; in a future version of numpy, it will be understood as (type, (1,)) / '(1,)type'.\n",
      "  _np_qint16 = np.dtype([(\"qint16\", np.int16, 1)])\n",
      "/home/jash/.local/lib/python3.6/site-packages/tensorflow/python/framework/dtypes.py:519: FutureWarning: Passing (type, 1) or '1type' as a synonym of type is deprecated; in a future version of numpy, it will be understood as (type, (1,)) / '(1,)type'.\n",
      "  _np_quint16 = np.dtype([(\"quint16\", np.uint16, 1)])\n",
      "/home/jash/.local/lib/python3.6/site-packages/tensorflow/python/framework/dtypes.py:520: FutureWarning: Passing (type, 1) or '1type' as a synonym of type is deprecated; in a future version of numpy, it will be understood as (type, (1,)) / '(1,)type'.\n",
      "  _np_qint32 = np.dtype([(\"qint32\", np.int32, 1)])\n",
      "/home/jash/.local/lib/python3.6/site-packages/tensorflow/python/framework/dtypes.py:525: FutureWarning: Passing (type, 1) or '1type' as a synonym of type is deprecated; in a future version of numpy, it will be understood as (type, (1,)) / '(1,)type'.\n",
      "  np_resource = np.dtype([(\"resource\", np.ubyte, 1)])\n",
      "/home/jash/.local/lib/python3.6/site-packages/tensorboard/compat/tensorflow_stub/dtypes.py:541: FutureWarning: Passing (type, 1) or '1type' as a synonym of type is deprecated; in a future version of numpy, it will be understood as (type, (1,)) / '(1,)type'.\n",
      "  _np_qint8 = np.dtype([(\"qint8\", np.int8, 1)])\n",
      "/home/jash/.local/lib/python3.6/site-packages/tensorboard/compat/tensorflow_stub/dtypes.py:542: FutureWarning: Passing (type, 1) or '1type' as a synonym of type is deprecated; in a future version of numpy, it will be understood as (type, (1,)) / '(1,)type'.\n",
      "  _np_quint8 = np.dtype([(\"quint8\", np.uint8, 1)])\n",
      "/home/jash/.local/lib/python3.6/site-packages/tensorboard/compat/tensorflow_stub/dtypes.py:543: FutureWarning: Passing (type, 1) or '1type' as a synonym of type is deprecated; in a future version of numpy, it will be understood as (type, (1,)) / '(1,)type'.\n",
      "  _np_qint16 = np.dtype([(\"qint16\", np.int16, 1)])\n",
      "/home/jash/.local/lib/python3.6/site-packages/tensorboard/compat/tensorflow_stub/dtypes.py:544: FutureWarning: Passing (type, 1) or '1type' as a synonym of type is deprecated; in a future version of numpy, it will be understood as (type, (1,)) / '(1,)type'.\n",
      "  _np_quint16 = np.dtype([(\"quint16\", np.uint16, 1)])\n",
      "/home/jash/.local/lib/python3.6/site-packages/tensorboard/compat/tensorflow_stub/dtypes.py:545: FutureWarning: Passing (type, 1) or '1type' as a synonym of type is deprecated; in a future version of numpy, it will be understood as (type, (1,)) / '(1,)type'.\n",
      "  _np_qint32 = np.dtype([(\"qint32\", np.int32, 1)])\n",
      "/home/jash/.local/lib/python3.6/site-packages/tensorboard/compat/tensorflow_stub/dtypes.py:550: FutureWarning: Passing (type, 1) or '1type' as a synonym of type is deprecated; in a future version of numpy, it will be understood as (type, (1,)) / '(1,)type'.\n",
      "  np_resource = np.dtype([(\"resource\", np.ubyte, 1)])\n"
     ]
    }
   ],
   "source": [
    "import json\n",
    "import requests\n",
    "import pickle\n",
    "import pandas as pd\n",
    "import numpy as np\n",
    "from processJSON import get_bill_char\n",
    "from predictChamber import encode_data_pred\n",
    "from keras.models import load_model"
   ]
  },
  {
   "cell_type": "code",
   "execution_count": 3,
   "metadata": {},
   "outputs": [],
   "source": [
    "def preprocess_data(bill, members, member_char, chamber, cong_char):\n",
    "    '''\n",
    "    Preprocesses bill from current bill call to fit the form for encoding\n",
    "    \n",
    "    param:\n",
    "    bill - json of bill from current bill api call\n",
    "    members - dict of member parties\n",
    "    member_char - csv of all member parties\n",
    "    chamber - str name of chamber either house or senate\n",
    "    congress_char - dict for congress json data for member characteristics\n",
    "    \n",
    "    return:\n",
    "    list of bill characteristics for prediction\n",
    "    '''\n",
    "    bill_slug = bill['bill_slug']\n",
    "    response = requests.get(bill_url.format(str(session), bill_slug, 'subjects'), headers={'X-API-KEY' : api_key})\n",
    "    \n",
    "    bill['subjects'] = [entry['name'] for entry in response.json()['results'][0]['subjects']]\n",
    "    bill['sponsor'] = {'bioguide_id' : response.json()['results'][0]['sponsor_id'], 'state' : response.json()['results'][0]['sponsor_state']}\n",
    "    \n",
    "    response = requests.get(bill_url.format(str(session), bill_slug, 'cosponsors'), headers={'X-API-KEY' : api_key})\n",
    "    cosponsors = response.json()['results'][0]['cosponsors']\n",
    "    for cosponsor in cosponsors:\n",
    "        cosponsor['bioguide_id'] = cosponsor['cosponsor_id']\n",
    "        cosponsor['state'] = cosponsor['cosponsor_state']\n",
    "        \n",
    "    bill['cosponsors'] = cosponsors\n",
    "    \n",
    "    return(get_bill_char(bill, members, member_char, chamber, cong_char, get_status=False))"
   ]
  },
  {
   "cell_type": "code",
   "execution_count": 4,
   "metadata": {},
   "outputs": [],
   "source": [
    "house_model_name = 'models/houseModel'\n",
    "senate_model_name = 'models/senateModel'\n",
    "with open(house_model_name + '/params', 'rb') as params_file:\n",
    "    house_dict = pickle.load(params_file)\n",
    "    house_threshold = house_dict['thresh']\n",
    "    house_party_indicies = house_dict['party_indicies']\n",
    "    max_len = house_dict['max_len']\n",
    "with open(senate_model_name + '/params', 'rb') as params_file:\n",
    "    senate_dict = pickle.load(params_file)\n",
    "    senate_threshold = senate_dict['thresh']\n",
    "    senate_party_indicies = house_dict['party_indicies']\n",
    "api_file = 'api_key.json'\n",
    "member_char = 'data/congress_mem_char.json'\n",
    "session = 116"
   ]
  },
  {
   "cell_type": "code",
   "execution_count": 5,
   "metadata": {},
   "outputs": [],
   "source": [
    "url = 'https://api.propublica.org/congress/v1/116/{0}/bills/active.json'\n",
    "f = open(api_file ,'r')\n",
    "json_data = json.load(f)\n",
    "api_key = json_data['key']"
   ]
  },
  {
   "cell_type": "code",
   "execution_count": 6,
   "metadata": {},
   "outputs": [],
   "source": [
    "char_f = open('data/116/characteristics.json', 'r')\n",
    "cong_char = json.load(char_f)\n",
    "\n",
    "recent_house = requests.get(url.format('house'), headers={'X-API-Key': api_key})\n",
    "house_bills = recent_house.json()['results'][0]['bills']\n",
    "\n",
    "recent_senate = requests.get(url.format('senate'), headers={'X-API-Key': api_key})\n",
    "senate_bills = recent_senate.json()['results'][0]['bills']"
   ]
  },
  {
   "cell_type": "code",
   "execution_count": 7,
   "metadata": {},
   "outputs": [],
   "source": [
    "house_output = []\n",
    "senate_output = []\n",
    "members = {}\n",
    "f = open(member_char, 'r')\n",
    "member_char = json.load(f)"
   ]
  },
  {
   "cell_type": "code",
   "execution_count": 8,
   "metadata": {},
   "outputs": [],
   "source": [
    "bill_url = 'https://api.propublica.org/congress/v1/{0}/bills/{1}/{2}.json'\n",
    "for bill in house_bills:\n",
    "    house_output.append(preprocess_data(bill, members, member_char, 'house', cong_char))\n",
    "    \n",
    "for bill in senate_bills:\n",
    "    senate_output.append(preprocess_data(bill, members, member_char, 'senate', cong_char))"
   ]
  },
  {
   "cell_type": "code",
   "execution_count": 9,
   "metadata": {},
   "outputs": [],
   "source": [
    "column_names = ['Democrat', 'Republican', 'Independant',\n",
    "                'Subjects', 'Sponsor Party', 'Bipartisan', 'Number Cosponsors', 'Number Cosponsor States', 'Outcome']\n",
    "\n",
    "house = pd.DataFrame(house_output, columns=column_names)\n",
    "senate = pd.DataFrame(senate_output, columns=column_names)"
   ]
  },
  {
   "cell_type": "code",
   "execution_count": 10,
   "metadata": {},
   "outputs": [],
   "source": [
    "house_char_features, house_text_features = encode_data_pred(house, max_len, house_party_indicies, house_model_name)\n",
    "senate_char_features, senate_text_features = encode_data_pred(senate, max_len, senate_party_indicies, house_model_name)"
   ]
  },
  {
   "cell_type": "code",
   "execution_count": 11,
   "metadata": {},
   "outputs": [
    {
     "name": "stdout",
     "output_type": "stream",
     "text": [
      "WARNING:tensorflow:From /home/jash/.local/lib/python3.6/site-packages/tensorflow/python/ops/nn_impl.py:180: add_dispatch_support.<locals>.wrapper (from tensorflow.python.ops.array_ops) is deprecated and will be removed in a future version.\n",
      "Instructions for updating:\n",
      "Use tf.where in 2.0, which has the same broadcast rule as np.where\n",
      "WARNING:tensorflow:From /home/jash/.local/lib/python3.6/site-packages/keras/backend/tensorflow_backend.py:422: The name tf.global_variables is deprecated. Please use tf.compat.v1.global_variables instead.\n",
      "\n"
     ]
    }
   ],
   "source": [
    "house_model = load_model(house_model_name + '/model.h5')\n",
    "senate_model = load_model(senate_model_name + '/model.h5')\n",
    "\n",
    "house_predictions = house_model.predict([house_char_features, house_text_features])\n",
    "senate_predictions = senate_model.predict([senate_char_features, senate_text_features])"
   ]
  },
  {
   "cell_type": "code",
   "execution_count": 12,
   "metadata": {},
   "outputs": [
    {
     "name": "stdout",
     "output_type": "stream",
     "text": [
      "House\n",
      "           Probability of Passing  Model Threshold Prediction\n",
      "Bill Slug                                                    \n",
      "hr7095                   0.017266          0.71542       Fail\n",
      "hr7010                   0.000000          0.71542       Fail\n",
      "hr1957                   0.000805          0.71542       Fail\n",
      "hr1240                   0.000002          0.71542       Fail\n",
      "hr1218                   0.000000          0.71542       Fail\n",
      "hr496                    0.000000          0.71542       Fail\n",
      "hr192                    0.000058          0.71542       Fail\n",
      "hr6800                   0.000010          0.71542       Fail\n",
      "hr6509                   0.003645          0.71542       Fail\n",
      "hr6172                   0.001737          0.71542       Fail\n",
      "hr6168                   0.004145          0.71542       Fail\n",
      "hr4739                   0.000000          0.71542       Fail\n",
      "hjres76                  0.338842          0.71542       Fail\n",
      "hr2066                   0.014545          0.71542       Fail\n",
      "hr943                    0.000225          0.71542       Fail\n",
      "hr6782                   0.000016          0.71542       Fail\n",
      "hres981                  0.199453          0.71542       Fail\n",
      "hr3349                   0.000650          0.71542       Fail\n",
      "hr306                    0.390444          0.71542       Fail\n",
      "hr1548                   0.017867          0.71542       Fail\n",
      "\n",
      "Senate\n",
      "           Probability of Passing  Model Threshold Prediction\n",
      "Bill Slug                                                    \n",
      "s3846                    0.508332         0.505842       Pass\n",
      "s3084                    0.187360         0.505842       Fail\n",
      "s1853                    0.000001         0.505842       Fail\n",
      "s886                     0.000037         0.505842       Fail\n",
      "sres606                  0.005525         0.505842       Fail\n",
      "s3782                    0.092715         0.505842       Fail\n",
      "sres567                  0.014821         0.505842       Fail\n",
      "s3548                    0.000005         0.505842       Fail\n",
      "sres542                  0.002123         0.505842       Fail\n",
      "sres533                  0.000001         0.505842       Fail\n",
      "sres525                  0.000023         0.505842       Fail\n",
      "sres523                  0.000041         0.505842       Fail\n",
      "sres511                  0.001903         0.505842       Fail\n",
      "sres502                  0.508332         0.505842       Pass\n",
      "s3176                    0.000063         0.505842       Fail\n",
      "sres454                  0.000012         0.505842       Fail\n",
      "sres406                  0.000000         0.505842       Fail\n",
      "sres392                  0.000001         0.505842       Fail\n",
      "sres148                  0.000058         0.505842       Fail\n",
      "s712                     0.000002         0.505842       Fail\n"
     ]
    }
   ],
   "source": [
    "house_slugs = [entry['bill_slug'] for entry in house_bills]\n",
    "senate_slugs = [entry['bill_slug'] for entry in senate_bills]\n",
    "\n",
    "house_prob = house_predictions.flatten()\n",
    "senate_prob = senate_predictions.flatten()\n",
    "\n",
    "pass_dict = {0 : 'Fail', 1 : 'Pass'}\n",
    "\n",
    "\n",
    "house_thresholds = [house_threshold] * len(house_slugs)\n",
    "senate_thresholds = [senate_threshold] * len(senate_slugs)\n",
    "final_house_predictions = np.zeros(len(house_prob))\n",
    "final_senate_predictions = np.zeros(len(senate_prob))\n",
    "\n",
    "final_house_predictions[house_prob < house_threshold] = 0\n",
    "final_house_predictions[house_prob >= house_threshold] = 1\n",
    "final_senate_predictions[senate_prob < senate_threshold] = 0\n",
    "final_senate_predictions[senate_prob >= senate_threshold] = 1\n",
    "\n",
    "final_house_predictions = final_house_predictions.flatten()\n",
    "final_senate_predictions = final_senate_predictions.flatten()\n",
    "\n",
    "final_house_predictions = np.vectorize(pass_dict.get)(final_house_predictions)\n",
    "final_senate_predictions = np.vectorize(pass_dict.get)(final_senate_predictions)\n",
    "\n",
    "pred_house_df = pd.DataFrame({'Bill Slug': house_slugs, 'Probability of Passing' : house_prob, 'Model Threshold' : house_threshold, 'Prediction' : final_house_predictions})\n",
    "pred_senate_df = pd.DataFrame({'Bill Slug': senate_slugs, 'Probability of Passing' : senate_prob, 'Model Threshold' : senate_threshold, 'Prediction' : final_senate_predictions})\n",
    "\n",
    "pred_house_df.set_index('Bill Slug', inplace=True)\n",
    "pred_senate_df.set_index('Bill Slug', inplace=True)\n",
    "pred_house_df['Probability of Passing'].round(7)\n",
    "pred_senate_df['Probability of Passing'].round(7)\n",
    "\n",
    "print('House')\n",
    "print(pred_house_df.round(6))\n",
    "print()\n",
    "print('Senate')\n",
    "print(pred_senate_df.round(6))"
   ]
  },
  {
   "cell_type": "code",
   "execution_count": null,
   "metadata": {},
   "outputs": [],
   "source": []
  }
 ],
 "metadata": {
  "kernelspec": {
   "display_name": "Python 3",
   "language": "python",
   "name": "python3"
  },
  "language_info": {
   "codemirror_mode": {
    "name": "ipython",
    "version": 3
   },
   "file_extension": ".py",
   "mimetype": "text/x-python",
   "name": "python",
   "nbconvert_exporter": "python",
   "pygments_lexer": "ipython3",
   "version": "3.6.9"
  }
 },
 "nbformat": 4,
 "nbformat_minor": 2
}
