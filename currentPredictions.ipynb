{
 "cells": [
  {
   "cell_type": "code",
   "execution_count": 1,
   "metadata": {},
   "outputs": [],
   "source": [
    "%load_ext autoreload\n",
    "%autoreload 2"
   ]
  },
  {
   "cell_type": "code",
   "execution_count": 2,
   "metadata": {},
   "outputs": [
    {
     "name": "stderr",
     "output_type": "stream",
     "text": [
      "Using TensorFlow backend.\n"
     ]
    }
   ],
   "source": [
    "import json\n",
    "import requests\n",
    "import pickle\n",
    "import pandas as pd\n",
    "import numpy as np\n",
    "from processJSON import get_bill_char\n",
    "from predictChamber import encode_data_pred\n",
    "from keras.models import load_model"
   ]
  },
  {
   "cell_type": "code",
   "execution_count": 13,
   "metadata": {},
   "outputs": [],
   "source": [
    "def preprocess_data(bill, members, member_char, chamber, cong_char, api_key):\n",
    "    '''\n",
    "    Preprocesses bill from current bill call to fit the form for encoding\n",
    "    \n",
    "    param:\n",
    "    bill - json of bill from current bill api call\n",
    "    members - dict of member parties\n",
    "    member_char - csv of all member parties\n",
    "    chamber - str name of chamber either house or senate\n",
    "    congress_char - dict for congress json data for member characteristics\n",
    "    api_key - string api key for prorepublica\n",
    "    \n",
    "    return:\n",
    "    list of bill characteristics for prediction\n",
    "    '''\n",
    "    bill_slug = bill['bill_slug']\n",
    "    response = requests.get(bill_url.format(str(session), bill_slug, 'subjects'), headers={'X-API-KEY' : api_key})\n",
    "    \n",
    "    bill['subjects'] = [entry['name'] for entry in response.json()['results'][0]['subjects']]\n",
    "    bill['sponsor'] = {'bioguide_id' : response.json()['results'][0]['sponsor_id'], 'state' : response.json()['results'][0]['sponsor_state']}\n",
    "    \n",
    "    response = requests.get(bill_url.format(str(session), bill_slug, 'cosponsors'), headers={'X-API-KEY' : api_key})\n",
    "    cosponsors = response.json()['results'][0]['cosponsors']\n",
    "    for cosponsor in cosponsors:\n",
    "        cosponsor['bioguide_id'] = cosponsor['cosponsor_id']\n",
    "        cosponsor['state'] = cosponsor['cosponsor_state']\n",
    "        \n",
    "    bill['cosponsors'] = cosponsors\n",
    "    \n",
    "    return(get_bill_char(bill, members, member_char, chamber, cong_char, get_status=False))"
   ]
  },
  {
   "cell_type": "code",
   "execution_count": 4,
   "metadata": {},
   "outputs": [],
   "source": [
    "house_model_name = 'models/houseModel'\n",
    "senate_model_name = 'models/senateModel'\n",
    "with open(house_model_name + '/params', 'rb') as params_file:\n",
    "    house_dict = pickle.load(params_file)\n",
    "    house_threshold = house_dict['thresh']\n",
    "    house_party_indicies = house_dict['party_indicies']\n",
    "    max_len = house_dict['max_len']\n",
    "with open(senate_model_name + '/params', 'rb') as params_file:\n",
    "    senate_dict = pickle.load(params_file)\n",
    "    senate_threshold = senate_dict['thresh']\n",
    "    senate_party_indicies = house_dict['party_indicies']\n",
    "api_file = 'api_key.json'\n",
    "member_char = 'data/congress_mem_char.json'\n",
    "session = 116"
   ]
  },
  {
   "cell_type": "code",
   "execution_count": 5,
   "metadata": {},
   "outputs": [],
   "source": [
    "url = 'https://api.propublica.org/congress/v1/116/{0}/bills/active.json'\n",
    "f = open(api_file ,'r')\n",
    "json_data = json.load(f)\n",
    "api_key = json_data['key']"
   ]
  },
  {
   "cell_type": "code",
   "execution_count": 6,
   "metadata": {},
   "outputs": [],
   "source": [
    "char_f = open('data/116/characteristics.json', 'r')\n",
    "cong_char = json.load(char_f)\n",
    "\n",
    "recent_house = requests.get(url.format('house'), headers={'X-API-Key': api_key})\n",
    "house_bills = recent_house.json()['results'][0]['bills']\n",
    "\n",
    "recent_senate = requests.get(url.format('senate'), headers={'X-API-Key': api_key})\n",
    "senate_bills = recent_senate.json()['results'][0]['bills']"
   ]
  },
  {
   "cell_type": "code",
   "execution_count": 7,
   "metadata": {},
   "outputs": [],
   "source": [
    "house_output = []\n",
    "senate_output = []\n",
    "members = {}\n",
    "f = open(member_char, 'r')\n",
    "member_char = json.load(f)"
   ]
  },
  {
   "cell_type": "code",
   "execution_count": 8,
   "metadata": {},
   "outputs": [],
   "source": [
    "bill_url = 'https://api.propublica.org/congress/v1/{0}/bills/{1}/{2}.json'\n",
    "for bill in house_bills:\n",
    "    house_output.append(preprocess_data(bill, members, member_char, 'house', cong_char, api_key))\n",
    "    \n",
    "for bill in senate_bills:\n",
    "    senate_output.append(preprocess_data(bill, members, member_char, 'senate', cong_char, api_key))"
   ]
  },
  {
   "cell_type": "code",
   "execution_count": 9,
   "metadata": {},
   "outputs": [],
   "source": [
    "column_names = ['Democrat', 'Republican', 'Independant',\n",
    "                'Subjects', 'Sponsor Party', 'Bipartisan', 'Number Cosponsors', 'Number Cosponsor States', 'Outcome']\n",
    "\n",
    "house = pd.DataFrame(house_output, columns=column_names)\n",
    "senate = pd.DataFrame(senate_output, columns=column_names)"
   ]
  },
  {
   "cell_type": "code",
   "execution_count": 10,
   "metadata": {},
   "outputs": [],
   "source": [
    "house_char_features, house_text_features = encode_data_pred(house, max_len, house_party_indicies, house_model_name)\n",
    "senate_char_features, senate_text_features = encode_data_pred(senate, max_len, senate_party_indicies, house_model_name)"
   ]
  },
  {
   "cell_type": "code",
   "execution_count": 11,
   "metadata": {},
   "outputs": [
    {
     "name": "stderr",
     "output_type": "stream",
     "text": [
      "/usr/local/lib/python3.7/site-packages/tensorflow_core/python/framework/indexed_slices.py:424: UserWarning: Converting sparse IndexedSlices to a dense Tensor of unknown shape. This may consume a large amount of memory.\n",
      "  \"Converting sparse IndexedSlices to a dense Tensor of unknown shape. \"\n",
      "/usr/local/lib/python3.7/site-packages/tensorflow_core/python/framework/indexed_slices.py:424: UserWarning: Converting sparse IndexedSlices to a dense Tensor of unknown shape. This may consume a large amount of memory.\n",
      "  \"Converting sparse IndexedSlices to a dense Tensor of unknown shape. \"\n"
     ]
    }
   ],
   "source": [
    "house_model = load_model(house_model_name + '/model.h5')\n",
    "senate_model = load_model(senate_model_name + '/model.h5')\n",
    "\n",
    "house_predictions = house_model.predict([house_char_features, house_text_features])\n",
    "senate_predictions = senate_model.predict([senate_char_features, senate_text_features])"
   ]
  },
  {
   "cell_type": "code",
   "execution_count": 12,
   "metadata": {},
   "outputs": [
    {
     "name": "stdout",
     "output_type": "stream",
     "text": [
      "House\n",
      "            Probability of Passing  Model Threshold Prediction\n",
      "Bill Slug                                                     \n",
      "hconres105                0.017867         0.729616       Fail\n",
      "hconres106                0.017867         0.729616       Fail\n",
      "hr7575                    0.003882         0.729616       Fail\n",
      "hr7608                    0.000000         0.729616       Fail\n",
      "hr1957                    0.000872         0.729616       Fail\n",
      "hres1060                  0.199453         0.729616       Fail\n",
      "hr7573                    0.004593         0.729616       Fail\n",
      "hr6800                    0.000010         0.729616       Fail\n",
      "hr2486                    0.000000         0.729616       Fail\n",
      "hr748                     0.000018         0.729616       Fail\n",
      "hr4727                    0.044555         0.729616       Fail\n",
      "hr1313                    0.000027         0.729616       Fail\n",
      "hr542                     0.000049         0.729616       Fail\n",
      "hres1058                  0.999594         0.729616       Pass\n",
      "hr7681                    0.017504         0.729616       Fail\n",
      "hres1055                  0.000071         0.729616       Fail\n",
      "hr7550                    0.017564         0.729616       Fail\n",
      "hr6395                    0.000029         0.729616       Fail\n",
      "hr4135                    0.001801         0.729616       Fail\n",
      "hr970                     0.000444         0.729616       Fail\n",
      "\n",
      "Senate\n",
      "           Probability of Passing  Model Threshold Prediction\n",
      "Bill Slug                                                    \n",
      "s4126                    0.014406         0.485064       Fail\n",
      "s4065                    0.002763         0.485064       Fail\n",
      "s4049                    0.006650         0.485064       Fail\n",
      "s3839                    0.001941         0.485064       Fail\n",
      "s3841                    0.001402         0.485064       Fail\n",
      "s3461                    0.000009         0.485064       Fail\n",
      "s3462                    0.000009         0.485064       Fail\n",
      "s906                     0.000033         0.485064       Fail\n",
      "s4209                    0.000132         0.485064       Fail\n",
      "s4189                    0.006281         0.485064       Fail\n",
      "s4148                    0.000607         0.485064       Fail\n",
      "s3997                    0.000005         0.485064       Fail\n",
      "s3989                    0.000088         0.485064       Fail\n",
      "sres617                  0.133085         0.485064       Fail\n",
      "s3811                    0.000001         0.485064       Fail\n",
      "s3287                    0.000088         0.485064       Fail\n",
      "s2525                    0.000037         0.485064       Fail\n",
      "sres654                  0.005395         0.485064       Fail\n",
      "s2693                    0.000000         0.485064       Fail\n",
      "s3637                    0.001433         0.485064       Fail\n"
     ]
    }
   ],
   "source": [
    "house_slugs = [entry['bill_slug'] for entry in house_bills]\n",
    "senate_slugs = [entry['bill_slug'] for entry in senate_bills]\n",
    "\n",
    "house_prob = house_predictions.flatten()\n",
    "senate_prob = senate_predictions.flatten()\n",
    "\n",
    "pass_dict = {0 : 'Fail', 1 : 'Pass'}\n",
    "\n",
    "\n",
    "house_thresholds = [house_threshold] * len(house_slugs)\n",
    "senate_thresholds = [senate_threshold] * len(senate_slugs)\n",
    "final_house_predictions = np.zeros(len(house_prob))\n",
    "final_senate_predictions = np.zeros(len(senate_prob))\n",
    "\n",
    "final_house_predictions[house_prob < house_threshold] = 0\n",
    "final_house_predictions[house_prob >= house_threshold] = 1\n",
    "final_senate_predictions[senate_prob < senate_threshold] = 0\n",
    "final_senate_predictions[senate_prob >= senate_threshold] = 1\n",
    "\n",
    "final_house_predictions = final_house_predictions.flatten()\n",
    "final_senate_predictions = final_senate_predictions.flatten()\n",
    "\n",
    "final_house_predictions = np.vectorize(pass_dict.get)(final_house_predictions)\n",
    "final_senate_predictions = np.vectorize(pass_dict.get)(final_senate_predictions)\n",
    "\n",
    "pred_house_df = pd.DataFrame({'Bill Slug': house_slugs, 'Probability of Passing' : house_prob, 'Model Threshold' : house_threshold, 'Prediction' : final_house_predictions})\n",
    "pred_senate_df = pd.DataFrame({'Bill Slug': senate_slugs, 'Probability of Passing' : senate_prob, 'Model Threshold' : senate_threshold, 'Prediction' : final_senate_predictions})\n",
    "\n",
    "pred_house_df.set_index('Bill Slug', inplace=True)\n",
    "pred_senate_df.set_index('Bill Slug', inplace=True)\n",
    "pred_house_df['Probability of Passing'].round(7)\n",
    "pred_senate_df['Probability of Passing'].round(7)\n",
    "\n",
    "print('House')\n",
    "print(pred_house_df.round(6))\n",
    "print()\n",
    "print('Senate')\n",
    "print(pred_senate_df.round(6))"
   ]
  }
 ],
 "metadata": {
  "kernelspec": {
   "display_name": "Python 3",
   "language": "python",
   "name": "python3"
  },
  "language_info": {
   "codemirror_mode": {
    "name": "ipython",
    "version": 3
   },
   "file_extension": ".py",
   "mimetype": "text/x-python",
   "name": "python",
   "nbconvert_exporter": "python",
   "pygments_lexer": "ipython3",
   "version": "3.7.6"
  }
 },
 "nbformat": 4,
 "nbformat_minor": 2
}
